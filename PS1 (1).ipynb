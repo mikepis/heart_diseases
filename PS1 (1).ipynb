{
 "cells": [
  {
   "cell_type": "markdown",
   "id": "9f51d388",
   "metadata": {},
   "source": [
    "My project is about heart diseases. Heart disease is a killer disease for both women and men in the United States. In 2020 alone, 697,000 people died from the heart disease. This is to imply that out of every five deaths in the US, one was from heart disease. Some of the risk factors for heart disease include gender, household income, race and ethnicity. Using a sample of 100 people from Governors Township we analyze the distribution of heart disease on the basis of the risk factors listed above to see if there are any observable patterns. \n",
    "Hypotheses\n",
    "Hypothesis 1: There is a significant relationship between heart disease and race/ethnicity\n",
    "Hypothesis 2: Heart disease differs significantly by gender\n",
    "Hypothesis 3: African Americans are at a higher risk of heart disease than their White Counterparts\n",
    "Hypothesis 4: Households with a larger size are at a higher risk of heart disease\n"
   ]
  },
  {
   "cell_type": "code",
   "execution_count": 44,
   "id": "26df2d92",
   "metadata": {},
   "outputs": [],
   "source": [
    "import pandas as pd"
   ]
  },
  {
   "cell_type": "code",
   "execution_count": 50,
   "id": "ab4154b6",
   "metadata": {},
   "outputs": [],
   "source": [
    "df = pd.read_excel(\"C:/Users/User/Desktop/mydata.xlsx\")"
   ]
  },
  {
   "cell_type": "code",
   "execution_count": 51,
   "id": "04263736",
   "metadata": {
    "scrolled": true
   },
   "outputs": [
    {
     "name": "stdout",
     "output_type": "stream",
     "text": [
      "   AnnualHouseholdIncome HomeSize  HomePrice  NoBedrooms  HouseholdSize   \\\n",
      "0               134150.0        M   273700.0         2.5               4   \n",
      "1               172350.0        L   348900.0         3.5               6   \n",
      "2               137900.0        L   301600.0         3.0               3   \n",
      "3               124800.0        L   301300.0         2.5               3   \n",
      "4               131300.0        M   286900.0         4.0               3   \n",
      "\n",
      "   HistoryHD   \n",
      "0           0  \n",
      "1           1  \n",
      "2           1  \n",
      "3           1  \n",
      "4           1  \n"
     ]
    }
   ],
   "source": [
    "print(df.head())"
   ]
  },
  {
   "cell_type": "markdown",
   "id": "a5306460",
   "metadata": {},
   "source": [
    "The variables in my data set are 1) AnnualHouseholdIncome 2) HomeSize where M represents is Medium size homes, L is Large sized homes and S is Small sized homes 3) HomePrice 4)NoBedrooms 5)HouseholdSize 6) HistoryHD is the history of heart disease where \"0\" represents no history of heart disease and \"1\" represents history of heart disease."
   ]
  },
  {
   "cell_type": "code",
   "execution_count": 52,
   "id": "70ca0aef",
   "metadata": {
    "scrolled": true
   },
   "outputs": [
    {
     "name": "stdout",
     "output_type": "stream",
     "text": [
      "count       100.000000\n",
      "mean     131313.000000\n",
      "std       25593.376886\n",
      "min       72400.000000\n",
      "25%      118812.500000\n",
      "50%      131350.000000\n",
      "75%      141675.000000\n",
      "max      261750.000000\n",
      "Name: AnnualHouseholdIncome, dtype: float64\n"
     ]
    }
   ],
   "source": [
    "print(df['AnnualHouseholdIncome'].describe())"
   ]
  },
  {
   "cell_type": "markdown",
   "id": "0b160be9",
   "metadata": {},
   "source": [
    "The average annual household income in the township is $131,313 with minimum income falling at $72,400 and the maximum at $261,750. "
   ]
  },
  {
   "cell_type": "code",
   "execution_count": 53,
   "id": "4c3aaa5c",
   "metadata": {},
   "outputs": [],
   "source": [
    "import matplotlib.pyplot as plt"
   ]
  },
  {
   "cell_type": "code",
   "execution_count": 80,
   "id": "e6aa9515",
   "metadata": {
    "scrolled": true
   },
   "outputs": [
    {
     "name": "stdout",
     "output_type": "stream",
     "text": [
      "1    58\n",
      "0    42\n",
      "Name: HistoryHD , dtype: int64\n"
     ]
    }
   ],
   "source": [
    "counts = df['HistoryHD '].value_counts()\n",
    "print(counts)"
   ]
  },
  {
   "cell_type": "code",
   "execution_count": 94,
   "id": "ece91bac",
   "metadata": {},
   "outputs": [],
   "source": [
    "import matplotlib.pyplot as plt"
   ]
  },
  {
   "cell_type": "code",
   "execution_count": 95,
   "id": "8d0b7e19",
   "metadata": {},
   "outputs": [],
   "source": [
    "df = pd.read_excel(\"C:/Users/User/Desktop/mydata.xlsx\")"
   ]
  },
  {
   "cell_type": "code",
   "execution_count": 81,
   "id": "218ef4a6",
   "metadata": {},
   "outputs": [
    {
     "name": "stdout",
     "output_type": "stream",
     "text": [
      "M    54\n",
      "L    35\n",
      "S    11\n",
      "Name: HomeSize, dtype: int64\n"
     ]
    }
   ],
   "source": [
    "counts = df['HomeSize'].value_counts()\n",
    "print(counts)"
   ]
  },
  {
   "cell_type": "code",
   "execution_count": 82,
   "id": "adaaa1bb",
   "metadata": {
    "scrolled": true
   },
   "outputs": [
    {
     "data": {
      "image/png": "[encoded data removed]",
      "text/plain": [
       "<Figure size 432x288 with 1 Axes>"
      ]
     },
     "metadata": {
      "needs_background": "light"
     },
     "output_type": "display_data"
    }
   ],
   "source": [
    "import matplotlib.pyplot as plt\n",
    "\n",
    "counts = df['HomeSize'].value_counts()\n",
    "\n",
    "fig, ax = plt.subplots()\n",
    "ax = counts.plot.bar()\n",
    "ax.set_xlabel('Home Size')\n",
    "ax.set_ylabel('Count')\n",
    "plt.show()"
   ]
  },
  {
   "cell_type": "markdown",
   "id": "70881abc",
   "metadata": {},
   "source": [
    "Out of a sample of 100 homes, there were 35 large-sized homes, 54 medium-sized homes and 11 small-sized homes. "
   ]
  },
  {
   "cell_type": "code",
   "execution_count": 83,
   "id": "ef91f2f9",
   "metadata": {},
   "outputs": [],
   "source": [
    "import pandas as pd"
   ]
  },
  {
   "cell_type": "code",
   "execution_count": 84,
   "id": "42a3ccc8",
   "metadata": {},
   "outputs": [],
   "source": [
    "df = pd.read_excel(\"C:/Users/User/Desktop/mydata.xlsx\")"
   ]
  },
  {
   "cell_type": "code",
   "execution_count": 85,
   "id": "65f3d253",
   "metadata": {},
   "outputs": [
    {
     "name": "stdout",
     "output_type": "stream",
     "text": [
      "   AnnualHouseholdIncome HomeSize  HomePrice  NoBedrooms  HouseholdSize   \\\n",
      "0               134150.0        M   273700.0         2.5               4   \n",
      "1               172350.0        L   348900.0         3.5               6   \n",
      "2               137900.0        L   301600.0         3.0               3   \n",
      "3               124800.0        L   301300.0         2.5               3   \n",
      "4               131300.0        M   286900.0         4.0               3   \n",
      "\n",
      "   HistoryHD   Race  \n",
      "0           0     2  \n",
      "1           1     2  \n",
      "2           1     3  \n",
      "3           1     1  \n",
      "4           1     1  \n"
     ]
    }
   ],
   "source": [
    "print(df.head())"
   ]
  },
  {
   "cell_type": "code",
   "execution_count": 86,
   "id": "46dd05d8",
   "metadata": {},
   "outputs": [
    {
     "name": "stdout",
     "output_type": "stream",
     "text": [
      "3    41\n",
      "1    27\n",
      "2    17\n",
      "4    15\n",
      "Name: Race, dtype: int64\n"
     ]
    }
   ],
   "source": [
    "counts = df['Race'].value_counts()\n",
    "print(counts)"
   ]
  },
  {
   "cell_type": "code",
   "execution_count": 87,
   "id": "5f506b9f",
   "metadata": {},
   "outputs": [],
   "source": [
    "import matplotlib.pyplot as plt"
   ]
  },
  {
   "cell_type": "code",
   "execution_count": 100,
   "id": "f0c7abfa",
   "metadata": {},
   "outputs": [],
   "source": [
    "df = pd.read_excel(\"C:/Users/User/Desktop/mydata.xlsx\")"
   ]
  },
  {
   "cell_type": "code",
   "execution_count": 107,
   "id": "8b74d259",
   "metadata": {
    "scrolled": true
   },
   "outputs": [
    {
     "name": "stdout",
     "output_type": "stream",
     "text": [
      "Index(['AnnualHouseholdIncome', 'HomeSize', 'HomePrice', 'NoBedrooms',\n",
      "       'HouseholdSize ', 'HistoryHD ', 'Race'],\n",
      "      dtype='object')\n"
     ]
    }
   ],
   "source": [
    "df = pd.read_excel(\"C:/Users/User/Desktop/mydata.xlsx\")\n",
    "print(df.columns)"
   ]
  },
  {
   "cell_type": "code",
   "execution_count": 108,
   "id": "d9ba1ebd",
   "metadata": {},
   "outputs": [],
   "source": [
    "import matplotlib.pyplot as plt"
   ]
  },
  {
   "cell_type": "code",
   "execution_count": 112,
   "id": "3bf56a8a",
   "metadata": {},
   "outputs": [],
   "source": [
    "df = pd.read_excel(\"C:/Users/User/Desktop/mydata.xlsx\")"
   ]
  },
  {
   "cell_type": "code",
   "execution_count": 114,
   "id": "b21bf44c",
   "metadata": {},
   "outputs": [],
   "source": [
    "import pandas as pd\n",
    "import matplotlib.pyplot as plt"
   ]
  },
  {
   "cell_type": "code",
   "execution_count": 115,
   "id": "568b0f10",
   "metadata": {},
   "outputs": [],
   "source": [
    "df = pd.read_excel(\"C:/Users/User/Desktop/mydata.xlsx\")"
   ]
  },
  {
   "cell_type": "code",
   "execution_count": 117,
   "id": "9ba3c941",
   "metadata": {},
   "outputs": [
    {
     "name": "stdout",
     "output_type": "stream",
     "text": [
      "Index(['AnnualHouseholdIncome', 'HomeSize', 'HomePrice', 'NoBedrooms',\n",
      "       'HouseholdSize ', 'HistoryHD ', 'Race'],\n",
      "      dtype='object')\n"
     ]
    }
   ],
   "source": [
    "print(df.columns)"
   ]
  },
  {
   "cell_type": "code",
   "execution_count": 119,
   "id": "c9c9ec93",
   "metadata": {},
   "outputs": [],
   "source": [
    "df.columns = df.columns.str.strip().str.replace(' ', '')"
   ]
  },
  {
   "cell_type": "code",
   "execution_count": 121,
   "id": "cb73152d",
   "metadata": {},
   "outputs": [],
   "source": [
    "df['HistoryHD'].replace({0: 'No', 1: 'Yes'}, inplace=True)"
   ]
  },
  {
   "cell_type": "code",
   "execution_count": 122,
   "id": "24d674ff",
   "metadata": {
    "scrolled": false
   },
   "outputs": [
    {
     "data": {
      "text/plain": [
       "<AxesSubplot:>"
      ]
     },
     "execution_count": 122,
     "metadata": {},
     "output_type": "execute_result"
    },
    {
     "data": {
      "image/png": "[encoded data removed]",
      "text/plain": [
       "<Figure size 432x288 with 1 Axes>"
      ]
     },
     "metadata": {
      "needs_background": "light"
     },
     "output_type": "display_data"
    }
   ],
   "source": [
    "df['HistoryHD'].value_counts().plot(kind='bar')"
   ]
  },
  {
   "cell_type": "markdown",
   "id": "a1817d1e",
   "metadata": {},
   "source": [
    "In my sample of 100, 58 (58%) reported history of heart disease while the remaining 42 (42%) reported no history of heart disease."
   ]
  },
  {
   "cell_type": "code",
   "execution_count": 123,
   "id": "1cf1c62a",
   "metadata": {},
   "outputs": [],
   "source": [
    "race_counts = df['Race'].value_counts()"
   ]
  },
  {
   "cell_type": "code",
   "execution_count": 124,
   "id": "f23be782",
   "metadata": {},
   "outputs": [],
   "source": [
    "race_pct = race_counts / len(df['Race']) * 100\n"
   ]
  },
  {
   "cell_type": "code",
   "execution_count": 125,
   "id": "e1cfa94a",
   "metadata": {},
   "outputs": [
    {
     "name": "stdout",
     "output_type": "stream",
     "text": [
      "3    41.0\n",
      "1    27.0\n",
      "2    17.0\n",
      "4    15.0\n",
      "Name: Race, dtype: float64\n"
     ]
    }
   ],
   "source": [
    "print(race_pct)"
   ]
  },
  {
   "cell_type": "markdown",
   "id": "591ac5ea",
   "metadata": {},
   "source": [
    "1(Black) 2(Hispanic) 3(White) 4(Asian)\n",
    "Out of the sample of 100, there were 41 (41%) Whites, 27 (27%) Blacks, 17(17%) Hispanics and 15 (15%) Asians. "
   ]
  }
 ],
 "metadata": {
  "kernelspec": {
   "display_name": "Python 3 (ipykernel)",
   "language": "python",
   "name": "python3"
  },
  "language_info": {
   "codemirror_mode": {
    "name": "ipython",
    "version": 3
   },
   "file_extension": ".py",
   "mimetype": "text/x-python",
   "name": "python",
   "nbconvert_exporter": "python",
   "pygments_lexer": "ipython3",
   "version": "3.9.7"
  }
 },
 "nbformat": 4,
 "nbformat_minor": 5
}
